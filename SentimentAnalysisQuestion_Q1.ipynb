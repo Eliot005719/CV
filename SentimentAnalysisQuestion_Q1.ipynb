{
  "cells": [
    {
      "cell_type": "markdown",
      "metadata": {
        "id": "_5f6VY16CKAQ"
      },
      "source": [
        "## Question 1\n",
        "Develop a Python program to perform sentiment analysis on a collection of customer reviews. You are allowed to use pre-trained language model or a sentiment analysis library. [20]\n",
        "\n",
        "**Example**\n",
        "\n",
        "```\n",
        "Input\n",
        "  \"The product exceeded my expectations. It's excellent!\",\n",
        "  \"I had a terrible experience with this company. The customer service was rude and unhelpful.\",\n",
        "  \"The quality of the product is average. It meets my basic requirements.\",\n",
        "  \"I absolutely love this product! It has improved my daily routine.\",\n",
        "\n",
        "Output - {'positive': 2, 'negative': 1, 'neutral': 1}\n",
        "\n",
        "*Output is a python dictionary with keys as positive, negative & neutral and value as the count of such reviews.\n",
        "\n",
        "Explanation -\n",
        "The product exceeded my expectations. It's excellent! ==> positive\n",
        "I had a terrible experience with this company. The customer service was rude and unhelpful. ==> negative\n",
        "The quality of the product is average. It meets my basic requirements. ==> neutral\n",
        "I absolutely love this product! It has improved my daily routine. ==> positive\n",
        "```\n",
        "\n",
        "### Additional information\n",
        "1. For installing a library e.g nltk use command block as  `!pip install nltk`, and run this before using any of it's functions.\n",
        "2. For installation of libraries refer - https://colab.research.google.com/notebooks/snippets/importing_libraries.ipynb\n",
        "3. Sample input file will be located at path `input/q1/reviews.txt`"
      ]
    },
    {
      "cell_type": "markdown",
      "metadata": {
        "id": "nUPOcNozOG7U"
      },
      "source": [
        "## Solution"
      ]
    },
    {
      "cell_type": "code",
      "execution_count": 13,
      "metadata": {
        "colab": {
          "base_uri": "https://localhost:8080/"
        },
        "id": "YoexPi6KdtG_",
        "outputId": "7aed54e4-2d91-48fa-8685-3a0abdfe1831"
      },
      "outputs": [
        {
          "name": "stdout",
          "output_type": "stream",
          "text": [
            "[0.6, -0.7, 0.0, 0.8]\n",
            "['positive', 'negative', 'neutral', 'positive']\n",
            "{'positive': 2, 'negative': 1, 'neutral': 1}\n"
          ]
        }
      ],
      "source": [
        "file_path = \"input/q1/reviews.txt\"\n",
        "\n",
        "\n",
        "import nltk\n",
        "from nltk.sentiment.vader import SentimentIntensityAnalyzer\n",
        "\n",
        "# Create a SentimentIntensityAnalyzer object.\n",
        "sid = SentimentIntensityAnalyzer()\n",
        "\n",
        "# Read the reviews from a file.\n",
        "with open(file_path, \"r\") as file:\n",
        "    reviews = file.readlines()\n",
        "\n",
        "# Calculate the sentiment score for each review.\n",
        "sentiment_scores = [sid.polarity_scores(review) for review in reviews]\n",
        "\n",
        "# Round off the value of sentiment_score.\n",
        "sentiment_scores = [round(score[\"compound\"], 1) for score in sentiment_scores]\n",
        "\n",
        "# Print the sentiment scores.\n",
        "print(sentiment_scores)\n",
        "\n",
        "# Print the sentiment labels.\n",
        "sentiment_labels = [\n",
        "\"negative\" if score < 0 else \"positive\" if score > 0 else \"neutral\"\n",
        "for score in sentiment_scores\n",
        "]\n",
        "\n",
        "print(sentiment_labels)\n",
        "\n",
        "# Print the sentiment distribution.\n",
        "sentiment_dict = {\n",
        "score: sentiment_labels.count(score)\n",
        "for score in sentiment_labels\n",
        "}\n",
        "\n",
        "print(sentiment_dict)\n",
        "\n"
      ]
    }
  ],
  "metadata": {
    "colab": {
      "provenance": []
    },
    "kernelspec": {
      "display_name": "Python 3",
      "name": "python3"
    },
    "language_info": {
      "codemirror_mode": {
        "name": "ipython",
        "version": 3
      },
      "file_extension": ".py",
      "mimetype": "text/x-python",
      "name": "python",
      "nbconvert_exporter": "python",
      "pygments_lexer": "ipython3",
      "version": "3.7.6"
    }
  },
  "nbformat": 4,
  "nbformat_minor": 0
}
